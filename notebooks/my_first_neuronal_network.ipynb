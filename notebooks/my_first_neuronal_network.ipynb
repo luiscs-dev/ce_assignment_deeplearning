{
 "cells": [
  {
   "cell_type": "markdown",
   "id": "6e86edbe-7cf7-4c2a-b7c8-78b7ca841435",
   "metadata": {},
   "source": [
    "# 🧠 Neural Networks Journey – Chapter X: Implementing forward propagation"
   ]
  },
  {
   "cell_type": "markdown",
   "id": "ceeeaacb-dc7f-4aed-9ef6-37fb0f29ba47",
   "metadata": {},
   "source": [
    "Welcome back to the **Dog-Size Classifier** project! 🐶\n",
    "\n",
    "So far you have built the neuron’s core ingredients—activation functions such as ReLU and sigmoid. \n",
    "\n",
    "In this chapter you’ll connect those neurons into layers, letting them work together just like a real neural network.\n",
    "\n",
    "**Your mission:** implement the `forward` function. That’s the moment your network meets fresh data, processes it layer-by-layer, and decides whether the features describe a small dog or a large one."
   ]
  },
  {
   "cell_type": "raw",
   "id": "613cbe63-319e-4baa-8573-d8a56341f5c9",
   "metadata": {},
   "source": [
    "      dog measurements            hidden                 ŷ \n",
    "┌────────────────────────┐  ┌─────────────────┐  ┌──────────────┐\n",
    "│ height │ weight │ tail │→ │ ReLU(W₁·x + b₁) │→ │ σ(W₂·h + b₂) │\n",
    "└────────────────────────┘  └─────────────────┘  └──────────────┘"
   ]
  },
  {
   "cell_type": "markdown",
   "id": "162e065a-93b4-4d7c-9996-31a64a05c8cc",
   "metadata": {},
   "source": [
    "By the end of this section you will be able to:\n",
    "\n",
    "- Code a fully working forward pass.\n",
    "\n",
    "- Validate your work with unit tests.\n",
    "\n",
    "\n",
    "Ready to bring your network to life? Let’s dive in!"
   ]
  },
  {
   "cell_type": "markdown",
   "id": "293f03d1-3c35-4ebe-802d-ff52b579914b",
   "metadata": {},
   "source": [
    "### Focus on TODOs in the following code."
   ]
  },
  {
   "cell_type": "code",
   "execution_count": 12,
   "id": "c0c0ad8a",
   "metadata": {},
   "outputs": [],
   "source": [
    "import numpy as np\n",
    "\n",
    "# Set random seed for reproducibility\n",
    "np.random.seed(42)\n",
    "\n",
    "def relu(x):\n",
    "    \"\"\"ReLU activation function\"\"\"\n",
    "    return np.maximum(0, x)\n",
    "\n",
    "def sigmoid(x):\n",
    "    \"\"\"Sigmoid activation function for binary classification\"\"\"\n",
    "    return 1 / (1 + np.exp(-x))\n",
    "\n",
    "class DogSizeClassifier:\n",
    "    def __init__(self):\n",
    "        self.W1 = np.random.randn(3,4)*0.2\n",
    "        self.b1 = np.zeros((1,4))\n",
    "        \n",
    "        self.W2 = np.random.randn(4,1)*0.13\n",
    "        self.b2 = np.zeros((1,1)) \n",
    "\n",
    "\n",
    "    def forward(self, dog_measurements):\n",
    "        \"\"\"\n",
    "        Classify dogs as Small (0) or Large (1) based on their physical measurements\n",
    "        \n",
    "        Args:\n",
    "            dog_measurements: Input data of shape (batch_size, 3)\n",
    "                             Columns: [height_cm, weight_kg, tail_length_cm]\n",
    "        \n",
    "        Returns:\n",
    "            probabilities: Output probabilities of shape (batch_size, 1)\n",
    "                          Values close to 0 = Small Dog, close to 1 = Large Dog\n",
    "        \"\"\"\n",
    "        # TODO: Implement forward propagation\n",
    "        # Step 1: Hidden layer computation\n",
    "        \n",
    "        # Step 2: Output layer computation (binary classification)\n",
    "        \n",
    "        pass\n",
    "    \n",
    "    def predict(self, dog_measurements):\n",
    "        \"\"\"\n",
    "        Get binary predictions for each dog (0 = Small, 1 = Large)\n",
    "        \n",
    "        Returns:\n",
    "            predictions: Array of binary predictions (0 or 1)\n",
    "        \"\"\"\n",
    "        probabilities = self.forward(dog_measurements)\n",
    "        return (probabilities > 0.5).astype(int).flatten()"
   ]
  },
  {
   "cell_type": "markdown",
   "id": "0a0fa204-192c-421a-9e1b-8c2d9eb407d6",
   "metadata": {},
   "source": [
    "## Testing your implementation"
   ]
  },
  {
   "cell_type": "markdown",
   "id": "4d3ae892-7e7b-4954-816f-964abcd11b13",
   "metadata": {},
   "source": [
    "You can test your progress using the following code."
   ]
  },
  {
   "cell_type": "code",
   "execution_count": 9,
   "id": "1fbf8275-3a5e-43e6-9bb6-b4fc7b834870",
   "metadata": {},
   "outputs": [],
   "source": [
    "import ipytest\n",
    "ipytest.autoconfig()"
   ]
  },
  {
   "cell_type": "code",
   "execution_count": 32,
   "id": "050f58a1-406f-4fda-945f-93d35c939b9e",
   "metadata": {},
   "outputs": [
    {
     "name": "stdout",
     "output_type": "stream",
     "text": [
      "\u001b[32m.\u001b[0m\u001b[32m.\u001b[0m\u001b[32m.\u001b[0m\u001b[32m                                                                                          [100%]\u001b[0m\n"
     ]
    }
   ],
   "source": [
    "%%ipytest -qq\n",
    "\n",
    "np.random.seed(42)\n",
    "\n",
    "classifier_test = DogSizeClassifier()\n",
    "\n",
    "# 2 dogs, 3 features each\n",
    "small_dogs = np.array([\n",
    "    [20, 3.5, 12],   # Small dog\n",
    "    [25, 7, 15]     # Small dog\n",
    "])\n",
    "\n",
    "dog_samples = np.array([\n",
    "    [50, 25, 30],   # Large dog\n",
    "    [18, 2.8, 10],   # Small dog \n",
    "    [55, 32, 35],   # Large dog\n",
    "    [60, 35, 40]    # Large dog\n",
    "])\n",
    "\n",
    "def test_forwad_implementation():\n",
    "    probabilities = classifier_test.forward(small_dogs)\n",
    "    assert probabilities is not None, \"You need to implement forward function, following TODOs steps.\"\n",
    "\n",
    "def test_output_shape():\n",
    "    probabilities = classifier_test.forward(small_dogs)\n",
    "    assert probabilities.shape == (2,1), \"Make sure shapes align: take a look at the diagram.\"\n",
    "\n",
    "def test_forward_values():\n",
    "    probabilities = classifier_test.forward(dog_samples)\n",
    "\n",
    "    expected = np.array([\n",
    "     [0.01921231],\n",
    "     [0.27521213],\n",
    "     [0.00943171],\n",
    "     [0.00613178]\n",
    "    ])\n",
    "    \n",
    "    np.testing.assert_allclose(probabilities, expected, rtol=1e-6)\n",
    "\n"
   ]
  },
  {
   "cell_type": "markdown",
   "id": "1097f86e-a356-43b8-9960-9d6e57ef11f1",
   "metadata": {},
   "source": [
    "## Congratulations!\n",
    "\n",
    "You have passed all the tests!\n",
    "\n",
    "In the next chapter, we’ll likely venture into:\n",
    "\n",
    "- Computing loss (to quantify error)\n",
    "\n",
    "- Backpropagation (to learn from mistakes)\n",
    "\n",
    "- Training loops (to evolve the network over time)"
   ]
  },
  {
   "cell_type": "markdown",
   "id": "c7f9f4d9-2cac-486f-b4c7-b6b80ddb397a",
   "metadata": {},
   "source": [
    "# Solution\n"
   ]
  },
  {
   "cell_type": "code",
   "execution_count": 33,
   "id": "84ccf3ba-66f9-4644-9122-0373294ec9f9",
   "metadata": {},
   "outputs": [],
   "source": [
    "import numpy as np\n",
    "\n",
    "# Set random seed for reproducibility\n",
    "np.random.seed(42)\n",
    "\n",
    "def relu(x):\n",
    "    \"\"\"ReLU activation function\"\"\"\n",
    "    return np.maximum(0, x)\n",
    "\n",
    "def sigmoid(x):\n",
    "    \"\"\"Sigmoid activation function for binary classification\"\"\"\n",
    "    return 1 / (1 + np.exp(-x))\n",
    "\n",
    "class DogSizeClassifier:\n",
    "    def __init__(self):\n",
    "        self.W1 = np.random.randn(3,4)*0.2\n",
    "        self.b1 = np.zeros((1,4))\n",
    "        \n",
    "        self.W2 = np.random.randn(4,1)*0.13\n",
    "        self.b2 = np.zeros((1,1)) \n",
    "\n",
    "\n",
    "    def forward(self, dog_measurements):\n",
    "        \"\"\"\n",
    "        Classify dogs as Small (0) or Large (1) based on their physical measurements\n",
    "        \n",
    "        Args:\n",
    "            dog_measurements: Input data of shape (batch_size, 3)\n",
    "                             Columns: [height_cm, weight_kg, tail_length_cm]\n",
    "        \n",
    "        Returns:\n",
    "            probabilities: Output probabilities of shape (batch_size, 1)\n",
    "                          Values close to 0 = Small Dog, close to 1 = Large Dog\n",
    "        \"\"\"\n",
    "        # TODO: Implement forward propagation\n",
    "        # Step 1: Hidden layer computation\n",
    "        z1 = np.dot(dog_measurements, self.W1) + self.b1\n",
    "        a1 = relu(z1)\n",
    "        \n",
    "        # Step 2: Output layer computation (binary classification)\n",
    "        z2 = np.dot(a1, self.W2) + self.b2\n",
    "        probabilities = sigmoid(z2)\n",
    "        \n",
    "        return probabilities\n",
    "    \n",
    "    def predict(self, dog_measurements):\n",
    "        \"\"\"\n",
    "        Get binary predictions for each dog (0 = Small, 1 = Large)\n",
    "        \n",
    "        Returns:\n",
    "            predictions: Array of binary predictions (0 or 1)\n",
    "        \"\"\"\n",
    "        probabilities = self.forward(dog_measurements)\n",
    "        return (probabilities > 0.5).astype(int).flatten()"
   ]
  },
  {
   "cell_type": "code",
   "execution_count": null,
   "id": "c920be37-f4e6-4ebe-8654-988e85fd6450",
   "metadata": {},
   "outputs": [],
   "source": []
  }
 ],
 "metadata": {
  "kernelspec": {
   "display_name": "Python 3 (ipykernel)",
   "language": "python",
   "name": "python3"
  },
  "language_info": {
   "codemirror_mode": {
    "name": "ipython",
    "version": 3
   },
   "file_extension": ".py",
   "mimetype": "text/x-python",
   "name": "python",
   "nbconvert_exporter": "python",
   "pygments_lexer": "ipython3",
   "version": "3.11.13"
  }
 },
 "nbformat": 4,
 "nbformat_minor": 5
}
